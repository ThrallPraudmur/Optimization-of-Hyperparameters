{
 "cells": [
  {
   "cell_type": "markdown",
   "id": "b5059693",
   "metadata": {},
   "source": [
    "Необходимо обучить две модели: логистическую регрессию и случайный лес. Далее нужно сделать **подбор гиперпараметров** с помощью базовых и продвинутых методов оптимизации."
   ]
  },
  {
   "cell_type": "code",
   "execution_count": 1,
   "id": "286b7ae7",
   "metadata": {},
   "outputs": [],
   "source": [
    "import pandas as pd\n",
    "import numpy as np\n",
    "import matplotlib.pyplot as plt\n",
    "import seaborn as sns\n",
    "\n",
    "from sklearn.model_selection import train_test_split\n",
    "from sklearn.model_selection import cross_val_score\n",
    "from sklearn.model_selection import cross_validate\n",
    "from sklearn import ensemble\n",
    "from sklearn import linear_model\n",
    "from sklearn import metrics\n",
    "\n",
    "import hyperopt\n",
    "from hyperopt import hp, fmin, tpe, Trials\n",
    "from sklearn.model_selection import GridSearchCV\n",
    "from sklearn.model_selection import RandomizedSearchCV\n",
    "import optuna"
   ]
  },
  {
   "cell_type": "code",
   "execution_count": 2,
   "id": "67d06eaa",
   "metadata": {},
   "outputs": [
    {
     "data": {
      "text/html": [
       "<div>\n",
       "<style scoped>\n",
       "    .dataframe tbody tr th:only-of-type {\n",
       "        vertical-align: middle;\n",
       "    }\n",
       "\n",
       "    .dataframe tbody tr th {\n",
       "        vertical-align: top;\n",
       "    }\n",
       "\n",
       "    .dataframe thead th {\n",
       "        text-align: right;\n",
       "    }\n",
       "</style>\n",
       "<table border=\"1\" class=\"dataframe\">\n",
       "  <thead>\n",
       "    <tr style=\"text-align: right;\">\n",
       "      <th></th>\n",
       "      <th>Activity</th>\n",
       "      <th>D1</th>\n",
       "      <th>D2</th>\n",
       "      <th>D3</th>\n",
       "      <th>D4</th>\n",
       "      <th>D5</th>\n",
       "      <th>D6</th>\n",
       "      <th>D7</th>\n",
       "      <th>D8</th>\n",
       "      <th>D9</th>\n",
       "      <th>...</th>\n",
       "      <th>D1767</th>\n",
       "      <th>D1768</th>\n",
       "      <th>D1769</th>\n",
       "      <th>D1770</th>\n",
       "      <th>D1771</th>\n",
       "      <th>D1772</th>\n",
       "      <th>D1773</th>\n",
       "      <th>D1774</th>\n",
       "      <th>D1775</th>\n",
       "      <th>D1776</th>\n",
       "    </tr>\n",
       "  </thead>\n",
       "  <tbody>\n",
       "    <tr>\n",
       "      <th>0</th>\n",
       "      <td>1</td>\n",
       "      <td>0.000000</td>\n",
       "      <td>0.497009</td>\n",
       "      <td>0.10</td>\n",
       "      <td>0.0</td>\n",
       "      <td>0.132956</td>\n",
       "      <td>0.678031</td>\n",
       "      <td>0.273166</td>\n",
       "      <td>0.585445</td>\n",
       "      <td>0.743663</td>\n",
       "      <td>...</td>\n",
       "      <td>0</td>\n",
       "      <td>0</td>\n",
       "      <td>0</td>\n",
       "      <td>0</td>\n",
       "      <td>0</td>\n",
       "      <td>0</td>\n",
       "      <td>0</td>\n",
       "      <td>0</td>\n",
       "      <td>0</td>\n",
       "      <td>0</td>\n",
       "    </tr>\n",
       "    <tr>\n",
       "      <th>1</th>\n",
       "      <td>1</td>\n",
       "      <td>0.366667</td>\n",
       "      <td>0.606291</td>\n",
       "      <td>0.05</td>\n",
       "      <td>0.0</td>\n",
       "      <td>0.111209</td>\n",
       "      <td>0.803455</td>\n",
       "      <td>0.106105</td>\n",
       "      <td>0.411754</td>\n",
       "      <td>0.836582</td>\n",
       "      <td>...</td>\n",
       "      <td>1</td>\n",
       "      <td>1</td>\n",
       "      <td>1</td>\n",
       "      <td>1</td>\n",
       "      <td>0</td>\n",
       "      <td>1</td>\n",
       "      <td>0</td>\n",
       "      <td>0</td>\n",
       "      <td>1</td>\n",
       "      <td>0</td>\n",
       "    </tr>\n",
       "    <tr>\n",
       "      <th>2</th>\n",
       "      <td>1</td>\n",
       "      <td>0.033300</td>\n",
       "      <td>0.480124</td>\n",
       "      <td>0.00</td>\n",
       "      <td>0.0</td>\n",
       "      <td>0.209791</td>\n",
       "      <td>0.610350</td>\n",
       "      <td>0.356453</td>\n",
       "      <td>0.517720</td>\n",
       "      <td>0.679051</td>\n",
       "      <td>...</td>\n",
       "      <td>0</td>\n",
       "      <td>0</td>\n",
       "      <td>0</td>\n",
       "      <td>0</td>\n",
       "      <td>0</td>\n",
       "      <td>0</td>\n",
       "      <td>0</td>\n",
       "      <td>0</td>\n",
       "      <td>0</td>\n",
       "      <td>0</td>\n",
       "    </tr>\n",
       "    <tr>\n",
       "      <th>3</th>\n",
       "      <td>1</td>\n",
       "      <td>0.000000</td>\n",
       "      <td>0.538825</td>\n",
       "      <td>0.00</td>\n",
       "      <td>0.5</td>\n",
       "      <td>0.196344</td>\n",
       "      <td>0.724230</td>\n",
       "      <td>0.235606</td>\n",
       "      <td>0.288764</td>\n",
       "      <td>0.805110</td>\n",
       "      <td>...</td>\n",
       "      <td>0</td>\n",
       "      <td>0</td>\n",
       "      <td>0</td>\n",
       "      <td>0</td>\n",
       "      <td>0</td>\n",
       "      <td>0</td>\n",
       "      <td>0</td>\n",
       "      <td>0</td>\n",
       "      <td>0</td>\n",
       "      <td>0</td>\n",
       "    </tr>\n",
       "    <tr>\n",
       "      <th>4</th>\n",
       "      <td>0</td>\n",
       "      <td>0.100000</td>\n",
       "      <td>0.517794</td>\n",
       "      <td>0.00</td>\n",
       "      <td>0.0</td>\n",
       "      <td>0.494734</td>\n",
       "      <td>0.781422</td>\n",
       "      <td>0.154361</td>\n",
       "      <td>0.303809</td>\n",
       "      <td>0.812646</td>\n",
       "      <td>...</td>\n",
       "      <td>0</td>\n",
       "      <td>0</td>\n",
       "      <td>0</td>\n",
       "      <td>0</td>\n",
       "      <td>0</td>\n",
       "      <td>0</td>\n",
       "      <td>0</td>\n",
       "      <td>0</td>\n",
       "      <td>0</td>\n",
       "      <td>0</td>\n",
       "    </tr>\n",
       "  </tbody>\n",
       "</table>\n",
       "<p>5 rows × 1777 columns</p>\n",
       "</div>"
      ],
      "text/plain": [
       "   Activity        D1        D2    D3   D4        D5        D6        D7  \\\n",
       "0         1  0.000000  0.497009  0.10  0.0  0.132956  0.678031  0.273166   \n",
       "1         1  0.366667  0.606291  0.05  0.0  0.111209  0.803455  0.106105   \n",
       "2         1  0.033300  0.480124  0.00  0.0  0.209791  0.610350  0.356453   \n",
       "3         1  0.000000  0.538825  0.00  0.5  0.196344  0.724230  0.235606   \n",
       "4         0  0.100000  0.517794  0.00  0.0  0.494734  0.781422  0.154361   \n",
       "\n",
       "         D8        D9  ...  D1767  D1768  D1769  D1770  D1771  D1772  D1773  \\\n",
       "0  0.585445  0.743663  ...      0      0      0      0      0      0      0   \n",
       "1  0.411754  0.836582  ...      1      1      1      1      0      1      0   \n",
       "2  0.517720  0.679051  ...      0      0      0      0      0      0      0   \n",
       "3  0.288764  0.805110  ...      0      0      0      0      0      0      0   \n",
       "4  0.303809  0.812646  ...      0      0      0      0      0      0      0   \n",
       "\n",
       "   D1774  D1775  D1776  \n",
       "0      0      0      0  \n",
       "1      0      1      0  \n",
       "2      0      0      0  \n",
       "3      0      0      0  \n",
       "4      0      0      0  \n",
       "\n",
       "[5 rows x 1777 columns]"
      ]
     },
     "execution_count": 2,
     "metadata": {},
     "output_type": "execute_result"
    }
   ],
   "source": [
    "data = pd.read_csv('./_train_sem09.csv')\n",
    "data.shape #3751x1777\n",
    "data.head()"
   ]
  },
  {
   "cell_type": "markdown",
   "id": "6477f808",
   "metadata": {},
   "source": [
    "Предварительная обработка не требуется, данные уже закодированы и нормализованы."
   ]
  },
  {
   "cell_type": "code",
   "execution_count": 3,
   "id": "19bd0364",
   "metadata": {},
   "outputs": [
    {
     "data": {
      "text/plain": [
       "<AxesSubplot:xlabel='Activity', ylabel='count'>"
      ]
     },
     "execution_count": 3,
     "metadata": {},
     "output_type": "execute_result"
    },
    {
     "data": {
      "image/png": "[encoded data removed]",
      "text/plain": [
       "<Figure size 432x288 with 1 Axes>"
      ]
     },
     "metadata": {
      "needs_background": "light"
     },
     "output_type": "display_data"
    }
   ],
   "source": [
    "X = data.drop(['Activity'], axis=1) \n",
    "y = data['Activity'] #целевая переменная, описывающая фактический биологический ответ\n",
    "\n",
    "sns.countplot(data=data, x='Activity')"
   ]
  },
  {
   "cell_type": "markdown",
   "id": "eafdf1d8",
   "metadata": {},
   "source": [
    "Классы распределены равномерно, не стратифицируем"
   ]
  },
  {
   "cell_type": "code",
   "execution_count": 4,
   "id": "29086bf2",
   "metadata": {},
   "outputs": [],
   "source": [
    "X_train, X_test, y_train, y_test = train_test_split(X, y, random_state = 42, test_size = 0.2)"
   ]
  },
  {
   "cell_type": "markdown",
   "id": "ea0002c9",
   "metadata": {},
   "source": [
    "## <center> Логистическая регрессия"
   ]
  },
  {
   "cell_type": "code",
   "execution_count": 5,
   "id": "14d7d183",
   "metadata": {},
   "outputs": [
    {
     "name": "stdout",
     "output_type": "stream",
     "text": [
      "f1_score 0.79\n"
     ]
    },
    {
     "name": "stderr",
     "output_type": "stream",
     "text": [
      "C:\\Users\\grish\\AppData\\Local\\Programs\\Python\\Python39\\lib\\site-packages\\sklearn\\linear_model\\_logistic.py:444: ConvergenceWarning: lbfgs failed to converge (status=1):\n",
      "STOP: TOTAL NO. of ITERATIONS REACHED LIMIT.\n",
      "\n",
      "Increase the number of iterations (max_iter) or scale the data as shown in:\n",
      "    https://scikit-learn.org/stable/modules/preprocessing.html\n",
      "Please also refer to the documentation for alternative solver options:\n",
      "    https://scikit-learn.org/stable/modules/linear_model.html#logistic-regression\n",
      "  n_iter_i = _check_optimize_result(\n"
     ]
    }
   ],
   "source": [
    "log_reg = linear_model.LogisticRegression(max_iter=50)\n",
    "log_reg.fit(X_train, y_train)\n",
    "y_test_pred = log_reg.predict(X_test)\n",
    "\n",
    "print('f1_score {:.2f}'.format(metrics.f1_score(y_test, y_test_pred)))"
   ]
  },
  {
   "cell_type": "markdown",
   "id": "80752235",
   "metadata": {},
   "source": [
    "F1 score: 0.79\n",
    "Попробуем подобрать гиперпараметры."
   ]
  },
  {
   "cell_type": "markdown",
   "id": "7b5fc301",
   "metadata": {},
   "source": [
    "**GridSearchCV**"
   ]
  },
  {
   "cell_type": "code",
   "execution_count": 6,
   "id": "4d2e4e13",
   "metadata": {},
   "outputs": [
    {
     "name": "stderr",
     "output_type": "stream",
     "text": [
      "C:\\Users\\grish\\AppData\\Local\\Programs\\Python\\Python39\\lib\\site-packages\\sklearn\\linear_model\\_logistic.py:444: ConvergenceWarning: lbfgs failed to converge (status=1):\n",
      "STOP: TOTAL NO. of ITERATIONS REACHED LIMIT.\n",
      "\n",
      "Increase the number of iterations (max_iter) or scale the data as shown in:\n",
      "    https://scikit-learn.org/stable/modules/preprocessing.html\n",
      "Please also refer to the documentation for alternative solver options:\n",
      "    https://scikit-learn.org/stable/modules/linear_model.html#logistic-regression\n",
      "  n_iter_i = _check_optimize_result(\n"
     ]
    },
    {
     "name": "stdout",
     "output_type": "stream",
     "text": [
      "CPU times: total: 4.94 s\n",
      "Wall time: 29min 29s\n",
      "Наилучшие значения гиперпараметров: {'C': 0.12, 'penalty': 'l2', 'solver': 'lbfgs'}\n",
      "f1_score на тестовом наборе: 0.80\n"
     ]
    }
   ],
   "source": [
    "#зададим немного расширенную, но неконфликтную сетку\n",
    "param_grid = {\n",
    "    'penalty': ['l2', 'none'],\n",
    "    'solver': ['lbfgs', 'newton-cg', 'sag', 'saga'],\n",
    "    'C': list(np.linspace(0.01, 1, 10, dtype=float))\n",
    "}\n",
    "\n",
    "grid_search = GridSearchCV(\n",
    "    estimator=linear_model.LogisticRegression(random_state=42, max_iter=50), \n",
    "    param_grid=param_grid, \n",
    "    cv=5, \n",
    "    n_jobs = -1\n",
    ")\n",
    "\n",
    "%time \n",
    "grid_search.fit(X_train, y_train) \n",
    "\n",
    "print(\"Наилучшие значения гиперпараметров: {}\".format(grid_search.best_params_))\n",
    "y_test_pred = grid_search.predict(X_test)\n",
    "print('f1_score на тестовом наборе: {:.2f}'.format(metrics.f1_score(y_test, y_test_pred)))"
   ]
  },
  {
   "cell_type": "markdown",
   "id": "c77a4e72",
   "metadata": {},
   "source": [
    "f1_score на тестовом наборе: 0.80\n",
    "Wall time: **29min 29s**\n",
    "Наилучшие значения гиперпараметров: **solver=lbfgs, penalty=l2, C=0.12**"
   ]
  },
  {
   "cell_type": "markdown",
   "id": "ac9537e0",
   "metadata": {},
   "source": [
    "**RandomizedSearchCV**"
   ]
  },
  {
   "cell_type": "code",
   "execution_count": 7,
   "id": "60d7b227",
   "metadata": {},
   "outputs": [
    {
     "name": "stdout",
     "output_type": "stream",
     "text": [
      "CPU times: total: 5.66 s\n",
      "Wall time: 17min 55s\n",
      "Наилучшие значения гиперпараметров: {'solver': 'sag', 'penalty': 'l2', 'C': 0.12}\n",
      "f1_score: 0.80\n"
     ]
    },
    {
     "name": "stderr",
     "output_type": "stream",
     "text": [
      "C:\\Users\\grish\\AppData\\Local\\Programs\\Python\\Python39\\lib\\site-packages\\sklearn\\linear_model\\_sag.py:350: ConvergenceWarning: The max_iter was reached which means the coef_ did not converge\n",
      "  warnings.warn(\n"
     ]
    }
   ],
   "source": [
    "param_distributions = {\n",
    "    'penalty': ['l2', 'none'],\n",
    "    'solver': ['lbfgs', 'newton-cg', 'sag', 'saga'],\n",
    "    'C': list(np.linspace(0.01, 1, 10, dtype=float))\n",
    "}\n",
    "\n",
    "random_search = RandomizedSearchCV(\n",
    "    estimator=linear_model.LogisticRegression(random_state=42, max_iter=50), \n",
    "    param_distributions=param_distributions, \n",
    "    cv=5, \n",
    "    n_iter = 50, \n",
    "    n_jobs = -1\n",
    ")  \n",
    "\n",
    "%time \n",
    "random_search.fit(X_train, y_train) \n",
    "\n",
    "print(\"Наилучшие значения гиперпараметров: {}\".format(random_search.best_params_))\n",
    "y_test_pred = random_search.predict(X_test)\n",
    "print('f1_score: {:.2f}'.format(metrics.f1_score(y_test, y_test_pred)))"
   ]
  },
  {
   "cell_type": "markdown",
   "id": "19f5cc6f",
   "metadata": {},
   "source": [
    "f1_score: 0.80\n",
    "Wall time: **17min 55s**\n",
    "Наилучшие значения гиперпараметров: **solver=sag, penalty=l2, C=0.12**"
   ]
  },
  {
   "cell_type": "markdown",
   "id": "4f15e8f0",
   "metadata": {},
   "source": [
    "**Hyperopt**"
   ]
  },
  {
   "cell_type": "code",
   "execution_count": 8,
   "id": "939c274b",
   "metadata": {},
   "outputs": [
    {
     "name": "stdout",
     "output_type": "stream",
     "text": [
      "CPU times: total: 0 ns\n",
      "Wall time: 0 ns\n",
      "100%|███████████████████████████████████████████████| 50/50 [09:20<00:00, 11.21s/trial, best loss: -0.7863639080513779]\n",
      "Наилучшие значения гиперпараметров {'C': 0.04, 'penalty': 0, 'solver': 0}\n"
     ]
    }
   ],
   "source": [
    "# зададим пространство поиска гиперпараметров\n",
    "space = {\n",
    "    'penalty': hp.choice('penalty', ['l2', 'none']),\n",
    "    'solver': hp.choice('solver', ['lbfgs', 'newton-cg', 'sag', 'saga']),\n",
    "    'C': hp.quniform('C', 0.01, 1, 0.01)\n",
    "}\n",
    "\n",
    "# функция получает комбинацию гиперпараметров в params\n",
    "def hyperopt_rf(params, cv=5, X=X_train, y=y_train, random_state=42):  \n",
    "    \n",
    "    params = {\n",
    "    'penalty': params['penalty'],\n",
    "    'solver': params['solver'],\n",
    "    'C': params['C']\n",
    "    }\n",
    "    \n",
    "    model = linear_model.LogisticRegression(**params, max_iter=50, random_state=42)\n",
    "    cv_metrics = cross_validate(model, X, y, cv=5, scoring=\"f1\", n_jobs=-1)\n",
    "    score = np.mean(cv_metrics['test_score'])\n",
    "    return -score\n",
    "\n",
    "# начинаем подбор гиперпараметров\n",
    "%time\n",
    "\n",
    "trials = Trials() # используется для логирования результатов\n",
    "\n",
    "best = fmin(\n",
    "    hyperopt_rf, # наша функция\n",
    "    space=space, # пространство гиперпараметров\n",
    "    algo=tpe.suggest, # алгоритм оптимизации, установлен по умолчанию, задавать необязательно\n",
    "    max_evals=50, # максимальное количество итераций\n",
    "    trials=trials, # логирование результатов\n",
    "    rstate=np.random.default_rng(42) # фиксируем для повторяемости результата\n",
    ")\n",
    "\n",
    "print('Наилучшие значения гиперпараметров {}'.format(best))"
   ]
  },
  {
   "cell_type": "markdown",
   "id": "922928d6",
   "metadata": {},
   "source": [
    "Наилучшие значения гиперпараметров: **solver=lbfgs, penalty=l2, C=0.04**"
   ]
  },
  {
   "cell_type": "markdown",
   "id": "7a6cb66f",
   "metadata": {},
   "source": [
    "**Optuna**"
   ]
  },
  {
   "cell_type": "code",
   "execution_count": 9,
   "id": "8b8f0f5f",
   "metadata": {},
   "outputs": [
    {
     "name": "stderr",
     "output_type": "stream",
     "text": [
      "\u001b[32m[I 2023-01-20 18:59:55,078]\u001b[0m A new study created in memory with name: LogisticRegression\u001b[0m\n"
     ]
    },
    {
     "name": "stdout",
     "output_type": "stream",
     "text": [
      "CPU times: total: 0 ns\n",
      "Wall time: 0 ns\n"
     ]
    },
    {
     "name": "stderr",
     "output_type": "stream",
     "text": [
      "\u001b[32m[I 2023-01-20 19:00:07,005]\u001b[0m Trial 0 finished with value: 0.7794234163503949 and parameters: {'penalty': 'l2', 'solver': 'newton-cg', 'C': 0.17538545688514603}. Best is trial 0 with value: 0.7794234163503949.\u001b[0m\n",
      "\u001b[32m[I 2023-01-20 19:00:09,703]\u001b[0m Trial 1 finished with value: 0.7626835828208308 and parameters: {'penalty': 'none', 'solver': 'lbfgs', 'C': 0.5174147428816419}. Best is trial 0 with value: 0.7794234163503949.\u001b[0m\n",
      "\u001b[32m[I 2023-01-20 19:00:18,199]\u001b[0m Trial 2 finished with value: 0.7721582771625701 and parameters: {'penalty': 'none', 'solver': 'sag', 'C': 0.20136684304644703}. Best is trial 0 with value: 0.7794234163503949.\u001b[0m\n",
      "\u001b[32m[I 2023-01-20 19:00:26,482]\u001b[0m Trial 3 finished with value: 0.7736894885325222 and parameters: {'penalty': 'l2', 'solver': 'sag', 'C': 0.8398637755219975}. Best is trial 0 with value: 0.7794234163503949.\u001b[0m\n",
      "\u001b[32m[I 2023-01-20 19:00:29,410]\u001b[0m Trial 4 finished with value: 0.7763421841396861 and parameters: {'penalty': 'l2', 'solver': 'lbfgs', 'C': 0.6757123888487144}. Best is trial 0 with value: 0.7794234163503949.\u001b[0m\n",
      "\u001b[32m[I 2023-01-20 19:00:43,374]\u001b[0m Trial 5 finished with value: 0.7815184115374736 and parameters: {'penalty': 'l2', 'solver': 'newton-cg', 'C': 0.2747970579568421}. Best is trial 5 with value: 0.7815184115374736.\u001b[0m\n",
      "\u001b[32m[I 2023-01-20 19:00:46,178]\u001b[0m Trial 6 finished with value: 0.7740662235310974 and parameters: {'penalty': 'l2', 'solver': 'lbfgs', 'C': 0.7672439939160157}. Best is trial 5 with value: 0.7815184115374736.\u001b[0m\n",
      "\u001b[32m[I 2023-01-20 19:00:49,016]\u001b[0m Trial 7 finished with value: 0.7626835828208308 and parameters: {'penalty': 'none', 'solver': 'lbfgs', 'C': 0.5064339787548328}. Best is trial 5 with value: 0.7815184115374736.\u001b[0m\n",
      "\u001b[32m[I 2023-01-20 19:02:46,213]\u001b[0m Trial 8 finished with value: 0.7231845520600424 and parameters: {'penalty': 'none', 'solver': 'newton-cg', 'C': 0.22191515859226504}. Best is trial 5 with value: 0.7815184115374736.\u001b[0m\n",
      "\u001b[32m[I 2023-01-20 19:02:55,051]\u001b[0m Trial 9 finished with value: 0.7721582771625701 and parameters: {'penalty': 'none', 'solver': 'sag', 'C': 0.3244372506922906}. Best is trial 5 with value: 0.7815184115374736.\u001b[0m\n",
      "\u001b[32m[I 2023-01-20 19:03:06,350]\u001b[0m Trial 10 finished with value: 0.7825254387860676 and parameters: {'penalty': 'l2', 'solver': 'saga', 'C': 0.026674583724113382}. Best is trial 10 with value: 0.7825254387860676.\u001b[0m\n",
      "\u001b[32m[I 2023-01-20 19:03:17,731]\u001b[0m Trial 11 finished with value: 0.7847580248861865 and parameters: {'penalty': 'l2', 'solver': 'saga', 'C': 0.05771034503260458}. Best is trial 11 with value: 0.7847580248861865.\u001b[0m\n",
      "\u001b[32m[I 2023-01-20 19:03:29,663]\u001b[0m Trial 12 finished with value: 0.7764923711704593 and parameters: {'penalty': 'l2', 'solver': 'saga', 'C': 0.01245415434926811}. Best is trial 11 with value: 0.7847580248861865.\u001b[0m\n",
      "\u001b[32m[I 2023-01-20 19:03:40,617]\u001b[0m Trial 13 finished with value: 0.7834994057304797 and parameters: {'penalty': 'l2', 'solver': 'saga', 'C': 0.0275059713144365}. Best is trial 11 with value: 0.7847580248861865.\u001b[0m\n",
      "\u001b[32m[I 2023-01-20 19:03:51,955]\u001b[0m Trial 14 finished with value: 0.7784835294355487 and parameters: {'penalty': 'l2', 'solver': 'saga', 'C': 0.993197095711233}. Best is trial 11 with value: 0.7847580248861865.\u001b[0m\n",
      "\u001b[32m[I 2023-01-20 19:04:03,056]\u001b[0m Trial 15 finished with value: 0.7789314853193117 and parameters: {'penalty': 'l2', 'solver': 'saga', 'C': 0.3863056623830522}. Best is trial 11 with value: 0.7847580248861865.\u001b[0m\n",
      "\u001b[32m[I 2023-01-20 19:04:13,684]\u001b[0m Trial 16 finished with value: 0.782703591424238 and parameters: {'penalty': 'l2', 'solver': 'saga', 'C': 0.10738981572953638}. Best is trial 11 with value: 0.7847580248861865.\u001b[0m\n",
      "\u001b[32m[I 2023-01-20 19:04:24,310]\u001b[0m Trial 17 finished with value: 0.7788009564910876 and parameters: {'penalty': 'l2', 'solver': 'saga', 'C': 0.392739878938726}. Best is trial 11 with value: 0.7847580248861865.\u001b[0m\n",
      "\u001b[32m[I 2023-01-20 19:04:34,743]\u001b[0m Trial 18 finished with value: 0.782325897578426 and parameters: {'penalty': 'l2', 'solver': 'saga', 'C': 0.11010210558744493}. Best is trial 11 with value: 0.7847580248861865.\u001b[0m\n",
      "\u001b[32m[I 2023-01-20 19:04:45,060]\u001b[0m Trial 19 finished with value: 0.780128078185679 and parameters: {'penalty': 'l2', 'solver': 'saga', 'C': 0.5990232070831103}. Best is trial 11 with value: 0.7847580248861865.\u001b[0m\n",
      "\u001b[32m[I 2023-01-20 19:04:55,325]\u001b[0m Trial 20 finished with value: 0.7855580560674833 and parameters: {'penalty': 'l2', 'solver': 'saga', 'C': 0.0900262118844625}. Best is trial 20 with value: 0.7855580560674833.\u001b[0m\n",
      "\u001b[32m[I 2023-01-20 19:05:05,627]\u001b[0m Trial 21 finished with value: 0.782703591424238 and parameters: {'penalty': 'l2', 'solver': 'saga', 'C': 0.1040790601443271}. Best is trial 20 with value: 0.7855580560674833.\u001b[0m\n",
      "\u001b[32m[I 2023-01-20 19:05:15,867]\u001b[0m Trial 22 finished with value: 0.779745814397782 and parameters: {'penalty': 'l2', 'solver': 'saga', 'C': 0.015346415647189644}. Best is trial 20 with value: 0.7855580560674833.\u001b[0m\n",
      "\u001b[32m[I 2023-01-20 19:05:26,323]\u001b[0m Trial 23 finished with value: 0.7828141033456959 and parameters: {'penalty': 'l2', 'solver': 'saga', 'C': 0.13341317974263503}. Best is trial 20 with value: 0.7855580560674833.\u001b[0m\n",
      "\u001b[32m[I 2023-01-20 19:05:36,655]\u001b[0m Trial 24 finished with value: 0.7787948475835942 and parameters: {'penalty': 'l2', 'solver': 'saga', 'C': 0.2835984764287207}. Best is trial 20 with value: 0.7855580560674833.\u001b[0m\n",
      "\u001b[32m[I 2023-01-20 19:05:47,507]\u001b[0m Trial 25 finished with value: 0.7848607805080086 and parameters: {'penalty': 'l2', 'solver': 'saga', 'C': 0.07637040391280472}. Best is trial 20 with value: 0.7855580560674833.\u001b[0m\n",
      "\u001b[32m[I 2023-01-20 19:05:58,208]\u001b[0m Trial 26 finished with value: 0.7785609770340762 and parameters: {'penalty': 'l2', 'solver': 'saga', 'C': 0.3917901564840275}. Best is trial 20 with value: 0.7855580560674833.\u001b[0m\n",
      "\u001b[32m[I 2023-01-20 19:08:04,799]\u001b[0m Trial 27 finished with value: 0.7231845520600424 and parameters: {'penalty': 'none', 'solver': 'newton-cg', 'C': 0.23257238733893842}. Best is trial 20 with value: 0.7855580560674833.\u001b[0m\n",
      "\u001b[32m[I 2023-01-20 19:08:13,988]\u001b[0m Trial 28 finished with value: 0.7824788778234354 and parameters: {'penalty': 'l2', 'solver': 'sag', 'C': 0.14325793586176333}. Best is trial 20 with value: 0.7855580560674833.\u001b[0m\n",
      "\u001b[32m[I 2023-01-20 19:08:26,993]\u001b[0m Trial 29 finished with value: 0.7797967174116499 and parameters: {'penalty': 'l2', 'solver': 'newton-cg', 'C': 0.17948710340203078}. Best is trial 20 with value: 0.7855580560674833.\u001b[0m\n",
      "\u001b[32m[I 2023-01-20 19:08:40,618]\u001b[0m Trial 30 finished with value: 0.7847261128490933 and parameters: {'penalty': 'l2', 'solver': 'saga', 'C': 0.07969372274371012}. Best is trial 20 with value: 0.7855580560674833.\u001b[0m\n",
      "\u001b[32m[I 2023-01-20 19:08:53,860]\u001b[0m Trial 31 finished with value: 0.7850709105362654 and parameters: {'penalty': 'l2', 'solver': 'saga', 'C': 0.09356742972636897}. Best is trial 20 with value: 0.7855580560674833.\u001b[0m\n",
      "\u001b[32m[I 2023-01-20 19:09:05,283]\u001b[0m Trial 32 finished with value: 0.7851020327579686 and parameters: {'penalty': 'l2', 'solver': 'saga', 'C': 0.07684447203247231}. Best is trial 20 with value: 0.7855580560674833.\u001b[0m\n",
      "\u001b[32m[I 2023-01-20 19:09:17,121]\u001b[0m Trial 33 finished with value: 0.7813874748698273 and parameters: {'penalty': 'l2', 'solver': 'saga', 'C': 0.17337135927471342}. Best is trial 20 with value: 0.7855580560674833.\u001b[0m\n",
      "\u001b[32m[I 2023-01-20 19:09:27,785]\u001b[0m Trial 34 finished with value: 0.7780914071628386 and parameters: {'penalty': 'none', 'solver': 'saga', 'C': 0.3252176365884718}. Best is trial 20 with value: 0.7855580560674833.\u001b[0m\n",
      "\u001b[32m[I 2023-01-20 19:09:30,795]\u001b[0m Trial 35 finished with value: 0.779603260592227 and parameters: {'penalty': 'l2', 'solver': 'lbfgs', 'C': 0.23352196215499557}. Best is trial 20 with value: 0.7855580560674833.\u001b[0m\n",
      "\u001b[32m[I 2023-01-20 19:09:39,469]\u001b[0m Trial 36 finished with value: 0.7810275915216331 and parameters: {'penalty': 'l2', 'solver': 'sag', 'C': 0.16239870549070157}. Best is trial 20 with value: 0.7855580560674833.\u001b[0m\n",
      "\u001b[32m[I 2023-01-20 19:09:50,234]\u001b[0m Trial 37 finished with value: 0.7857014695485535 and parameters: {'penalty': 'l2', 'solver': 'saga', 'C': 0.07296757489909039}. Best is trial 37 with value: 0.7857014695485535.\u001b[0m\n"
     ]
    },
    {
     "name": "stderr",
     "output_type": "stream",
     "text": [
      "\u001b[32m[I 2023-01-20 19:09:53,139]\u001b[0m Trial 38 finished with value: 0.7626835828208308 and parameters: {'penalty': 'none', 'solver': 'lbfgs', 'C': 0.27243808701695754}. Best is trial 37 with value: 0.7857014695485535.\u001b[0m\n",
      "\u001b[32m[I 2023-01-20 19:10:09,330]\u001b[0m Trial 39 finished with value: 0.7748304049445134 and parameters: {'penalty': 'l2', 'solver': 'newton-cg', 'C': 0.4675999307691644}. Best is trial 37 with value: 0.7857014695485535.\u001b[0m\n",
      "\u001b[32m[I 2023-01-20 19:10:18,069]\u001b[0m Trial 40 finished with value: 0.7721582771625701 and parameters: {'penalty': 'none', 'solver': 'sag', 'C': 0.6709665575923544}. Best is trial 37 with value: 0.7857014695485535.\u001b[0m\n",
      "\u001b[32m[I 2023-01-20 19:10:28,961]\u001b[0m Trial 41 finished with value: 0.7842721465322325 and parameters: {'penalty': 'l2', 'solver': 'saga', 'C': 0.06212972673757164}. Best is trial 37 with value: 0.7857014695485535.\u001b[0m\n",
      "\u001b[32m[I 2023-01-20 19:10:39,903]\u001b[0m Trial 42 finished with value: 0.785097902148751 and parameters: {'penalty': 'l2', 'solver': 'saga', 'C': 0.07517129640217056}. Best is trial 37 with value: 0.7857014695485535.\u001b[0m\n",
      "\u001b[32m[I 2023-01-20 19:10:50,757]\u001b[0m Trial 43 finished with value: 0.7805487161768401 and parameters: {'penalty': 'l2', 'solver': 'saga', 'C': 0.20198551703798412}. Best is trial 37 with value: 0.7857014695485535.\u001b[0m\n",
      "\u001b[32m[I 2023-01-20 19:11:01,450]\u001b[0m Trial 44 finished with value: 0.7828141033456959 and parameters: {'penalty': 'l2', 'solver': 'saga', 'C': 0.1356256032248914}. Best is trial 37 with value: 0.7857014695485535.\u001b[0m\n",
      "\u001b[32m[I 2023-01-20 19:11:04,441]\u001b[0m Trial 45 finished with value: 0.7849916286762878 and parameters: {'penalty': 'l2', 'solver': 'lbfgs', 'C': 0.061817704397303185}. Best is trial 37 with value: 0.7857014695485535.\u001b[0m\n",
      "\u001b[32m[I 2023-01-20 19:11:15,274]\u001b[0m Trial 46 finished with value: 0.7793749707970091 and parameters: {'penalty': 'l2', 'solver': 'saga', 'C': 0.8769552646609935}. Best is trial 37 with value: 0.7857014695485535.\u001b[0m\n",
      "\u001b[32m[I 2023-01-20 19:11:26,253]\u001b[0m Trial 47 finished with value: 0.7782672701533835 and parameters: {'penalty': 'l2', 'solver': 'saga', 'C': 0.013435262917136509}. Best is trial 37 with value: 0.7857014695485535.\u001b[0m\n",
      "\u001b[32m[I 2023-01-20 19:11:37,483]\u001b[0m Trial 48 finished with value: 0.7791696247753309 and parameters: {'penalty': 'l2', 'solver': 'saga', 'C': 0.25721480972841504}. Best is trial 37 with value: 0.7857014695485535.\u001b[0m\n",
      "\u001b[32m[I 2023-01-20 19:13:38,324]\u001b[0m Trial 49 finished with value: 0.7231845520600424 and parameters: {'penalty': 'none', 'solver': 'newton-cg', 'C': 0.32752021416970245}. Best is trial 37 with value: 0.7857014695485535.\u001b[0m\n"
     ]
    },
    {
     "name": "stdout",
     "output_type": "stream",
     "text": [
      "Наилучшие значения гиперпараметров {'penalty': 'l2', 'solver': 'saga', 'C': 0.07296757489909039}\n"
     ]
    }
   ],
   "source": [
    "def optuna_rf(trial):\n",
    "  # задаем пространства поиска гиперпараметров\n",
    "    penalty = trial.suggest_categorical('penalty', ['l2', 'none'])\n",
    "    solver = trial.suggest_categorical('solver', ['lbfgs', 'newton-cg', 'sag', 'saga'])\n",
    "    C = trial.suggest_float('C', 0.01, 1)\n",
    "    \n",
    "  # создаем модель\n",
    "    model = linear_model.LogisticRegression(\n",
    "        penalty=penalty,\n",
    "        solver=solver,\n",
    "        C=C,\n",
    "        max_iter=50,\n",
    "        random_state=42\n",
    "    )\n",
    "    \n",
    "    score = cross_val_score(model, X=X_train, y=y_train, cv=5, scoring='f1', n_jobs=-1).mean()\n",
    "    return score\n",
    "\n",
    "%time\n",
    "# cоздаем объект исследования\n",
    "study = optuna.create_study(study_name='LogisticRegression', direction='maximize')\n",
    "# ищем лучшую комбинацию гиперпараметров n_trials раз\n",
    "study.optimize(optuna_rf, n_trials=50)\n",
    "\n",
    "print(\"Наилучшие значения гиперпараметров {}\".format(study.best_params))"
   ]
  },
  {
   "cell_type": "markdown",
   "id": "6cd76021",
   "metadata": {},
   "source": [
    "Наилучшие значения гиперпараметров: **solver=saga, penalty=l2, C=0.07296757489909039**"
   ]
  },
  {
   "cell_type": "markdown",
   "id": "52ba348f",
   "metadata": {},
   "source": [
    "## <center> Случайный лес"
   ]
  },
  {
   "cell_type": "markdown",
   "id": "5b0623bd",
   "metadata": {},
   "source": [
    "**Random Forest** (n_estimators = количество деревьев, 100 штук;\n",
    "                   max_depth = максимальная глубина дерева, большая;\n",
    "                   max_features = максимальное количество признаков, учитываемых при разделении;\n",
    "                   subsample = доля выборки, которая используется для обучения каждого дерева)"
   ]
  },
  {
   "cell_type": "code",
   "execution_count": 10,
   "id": "0adaeee6",
   "metadata": {},
   "outputs": [
    {
     "name": "stdout",
     "output_type": "stream",
     "text": [
      "Train: 1.00\n",
      "Test: 0.83\n"
     ]
    }
   ],
   "source": [
    "#Создаем объект класса случайный лес\n",
    "rf = ensemble.RandomForestClassifier(random_state=42)\n",
    "\n",
    "#Обучаем модель\n",
    "rf.fit(X_train, y_train)\n",
    "#Выводим значения метрики \n",
    "y_train_pred = rf.predict(X_train)\n",
    "print('Train: {:.2f}'.format(metrics.f1_score(y_train, y_train_pred)))\n",
    "y_test_pred = rf.predict(X_test)\n",
    "print('Test: {:.2f}'.format(metrics.f1_score(y_test, y_test_pred)))"
   ]
  },
  {
   "cell_type": "markdown",
   "id": "5c2d7e22",
   "metadata": {},
   "source": [
    "**GridSearchCV**"
   ]
  },
  {
   "cell_type": "code",
   "execution_count": 12,
   "id": "d0b3119b",
   "metadata": {},
   "outputs": [
    {
     "name": "stdout",
     "output_type": "stream",
     "text": [
      "f1_score на обучающем наборе: 0.94\n",
      "f1_score на тестовом наборе: 0.84\n",
      "Наилучшие значения гиперпараметров: {'criterion': 'entropy', 'max_depth': 15, 'min_samples_leaf': 5, 'n_estimators': 200}\n"
     ]
    }
   ],
   "source": [
    "param_grid = {\n",
    "    'n_estimators': list(np.linspace(50, 200, 4, dtype=int)),\n",
    "    'min_samples_leaf': list(np.linspace(5, 20, 4, dtype=int)),\n",
    "    'max_depth': list(np.linspace(10, 25, 4, dtype=int)),\n",
    "    'criterion': ['gini', 'entropy', 'log_loss']\n",
    "}\n",
    "\n",
    "grid_rf = GridSearchCV(\n",
    "    estimator=ensemble.RandomForestClassifier(random_state=42),\n",
    "    param_grid=param_grid,\n",
    "    cv=5,\n",
    "    n_jobs=-1\n",
    ")\n",
    "\n",
    "%time \n",
    "grid_rf.fit(X_train, y_train)\n",
    "\n",
    "y_train_pred = grid_rf.predict(X_train)\n",
    "print('f1_score на обучающем наборе: {:.2f}'.format(metrics.f1_score(y_train, y_train_pred)))\n",
    "y_test_pred = grid_rf.predict(X_test)\n",
    "print('f1_score на тестовом наборе: {:.2f}'.format(metrics.f1_score(y_test, y_test_pred)))\n",
    "print('Наилучшие значения гиперпараметров: {}'.format(grid_rf.best_params_))"
   ]
  },
  {
   "cell_type": "markdown",
   "id": "70d8ac93",
   "metadata": {},
   "source": [
    "Наилучшие значения гиперпараметров:**n_estimators=200, min_samples_leaf=5, max_depth=15, criterion=entropy**"
   ]
  },
  {
   "cell_type": "markdown",
   "id": "f034b632",
   "metadata": {},
   "source": [
    "**RandomizedSearchCV**"
   ]
  },
  {
   "cell_type": "code",
   "execution_count": 13,
   "id": "4c3a2baa",
   "metadata": {},
   "outputs": [
    {
     "name": "stdout",
     "output_type": "stream",
     "text": [
      "CPU times: total: 0 ns\n",
      "Wall time: 0 ns\n",
      "f1_score на обучающем наборе: 0.94\n",
      "f1_score на тестовом наборе: 0.83\n",
      "Наилучшие значения гиперпараметров: {'n_estimators': 150, 'min_samples_leaf': 5, 'max_depth': 15, 'criterion': 'entropy'}\n"
     ]
    }
   ],
   "source": [
    "param_distributions = {\n",
    "    'n_estimators': list(np.linspace(50, 200, 4, dtype=int)),\n",
    "    'min_samples_leaf': list(np.linspace(5, 20, 4, dtype=int)),\n",
    "    'max_depth': list(np.linspace(10, 25, 4, dtype=int)),\n",
    "    'criterion': ['gini', 'entropy', 'log_loss']\n",
    "}\n",
    "\n",
    "random_search_rf = RandomizedSearchCV(\n",
    "    estimator=ensemble.RandomForestClassifier(random_state=42), \n",
    "    param_distributions=param_distributions, \n",
    "    cv=5,\n",
    "    n_iter = 50,\n",
    "    n_jobs = -1\n",
    ")  \n",
    "\n",
    "%time \n",
    "random_search_rf.fit(X_train, y_train) \n",
    "\n",
    "y_train_pred = random_search_rf.predict(X_train)\n",
    "print('f1_score на обучающем наборе: {:.2f}'.format(metrics.f1_score(y_train, y_train_pred)))\n",
    "y_test_pred = random_search_rf.predict(X_test)\n",
    "print('f1_score на тестовом наборе: {:.2f}'.format(metrics.f1_score(y_test, y_test_pred)))\n",
    "print('Наилучшие значения гиперпараметров: {}'.format(random_search_rf.best_params_))"
   ]
  },
  {
   "cell_type": "markdown",
   "id": "ff179f74",
   "metadata": {},
   "source": [
    "Наилучшие значения гиперпараметров:**n_estimators=150, min_samples_leaf=5, max_depth=15, criterion=entropy**"
   ]
  },
  {
   "cell_type": "markdown",
   "id": "77276221",
   "metadata": {},
   "source": [
    "**Hyperopt**"
   ]
  },
  {
   "cell_type": "code",
   "execution_count": 14,
   "id": "062c8ca6",
   "metadata": {},
   "outputs": [
    {
     "name": "stdout",
     "output_type": "stream",
     "text": [
      "CPU times: total: 0 ns\n",
      "Wall time: 0 ns\n",
      "100%|███████████████████████████████████████████████| 50/50 [05:00<00:00,  6.01s/trial, best loss: -0.8074989808851509]\n",
      "Наилучшие значения гиперпараметров {'criterion': 1, 'max_depth': 16.0, 'min_samples_leaf': 5.0, 'n_estimators': 187.0}\n"
     ]
    }
   ],
   "source": [
    "# зададим пространство поиска гиперпараметров\n",
    "space = {\n",
    "    'n_estimators': hp.quniform('n_estimators', 50, 200, 1),\n",
    "    'min_samples_leaf': hp.quniform('min_samples_leaf', 5, 20, 1),\n",
    "    'max_depth': hp.quniform('max_depth', 10, 25, 1),\n",
    "    'criterion': hp.choice('criterion', ['gini', 'entropy', 'log_loss'])\n",
    "}\n",
    "\n",
    "# функция получает комбинацию гиперпараметров в params\n",
    "def hyperopt_rf(params, cv=5, X=X_train, y=y_train, random_state=42):  \n",
    "    params = {\n",
    "    'n_estimators': int(params['n_estimators']),\n",
    "    'max_depth': int(params['max_depth']), \n",
    "    'min_samples_leaf': int(params['min_samples_leaf']),\n",
    "    'criterion': params['criterion']\n",
    "    }\n",
    "    \n",
    "    model = ensemble.RandomForestClassifier(**params, random_state=random_state)\n",
    "    \n",
    "    cv_metrics = cross_validate(model, X, y, cv=5, scoring=\"f1\", n_jobs=-1)\n",
    "    score = np.mean(cv_metrics['test_score'])\n",
    "    return -score\n",
    "\n",
    "# начинаем подбор гиперпараметров\n",
    "%time\n",
    "\n",
    "trials = Trials() # используется для логирования результатов\n",
    "\n",
    "best = fmin(\n",
    "    hyperopt_rf, # наша функция\n",
    "    space=space, # пространство гиперпараметров\n",
    "    algo=tpe.suggest, # алгоритм оптимизации, установлен по умолчанию, задавать необязательно\n",
    "    max_evals=50, # максимальное количество итераций\n",
    "    trials=trials, # логирование результатов\n",
    "    rstate=np.random.default_rng(42)# фиксируем для повторяемости результата\n",
    ")\n",
    "\n",
    "print('Наилучшие значения гиперпараметров {}'.format(best))"
   ]
  },
  {
   "cell_type": "markdown",
   "id": "fab1c152",
   "metadata": {},
   "source": [
    "Наилучшие значения гиперпараметров:**n_estimators=187.0, min_samples_leaf=5.0, max_depth=16.0, criterion=entropy**"
   ]
  },
  {
   "cell_type": "markdown",
   "id": "905a6bc9",
   "metadata": {},
   "source": [
    "**Optuna**"
   ]
  },
  {
   "cell_type": "code",
   "execution_count": 15,
   "id": "5148c9de",
   "metadata": {},
   "outputs": [
    {
     "name": "stderr",
     "output_type": "stream",
     "text": [
      "\u001b[32m[I 2023-01-20 19:37:51,399]\u001b[0m A new study created in memory with name: RandomForestClassifier\u001b[0m\n"
     ]
    },
    {
     "name": "stdout",
     "output_type": "stream",
     "text": [
      "CPU times: total: 0 ns\n",
      "Wall time: 0 ns\n"
     ]
    },
    {
     "name": "stderr",
     "output_type": "stream",
     "text": [
      "\u001b[32m[I 2023-01-20 19:37:56,605]\u001b[0m Trial 0 finished with value: 0.7759068345431082 and parameters: {'n_estimators': 147, 'min_samples_leaf': 20, 'max_depth': 22, 'criterion': 'log_loss'}. Best is trial 0 with value: 0.7759068345431082.\u001b[0m\n",
      "\u001b[32m[I 2023-01-20 19:38:02,888]\u001b[0m Trial 1 finished with value: 0.7915342086361388 and parameters: {'n_estimators': 152, 'min_samples_leaf': 10, 'max_depth': 13, 'criterion': 'log_loss'}. Best is trial 1 with value: 0.7915342086361388.\u001b[0m\n",
      "\u001b[32m[I 2023-01-20 19:38:05,539]\u001b[0m Trial 2 finished with value: 0.790070100444564 and parameters: {'n_estimators': 51, 'min_samples_leaf': 9, 'max_depth': 11, 'criterion': 'entropy'}. Best is trial 1 with value: 0.7915342086361388.\u001b[0m\n",
      "\u001b[32m[I 2023-01-20 19:38:12,259]\u001b[0m Trial 3 finished with value: 0.7921510997345205 and parameters: {'n_estimators': 189, 'min_samples_leaf': 10, 'max_depth': 16, 'criterion': 'gini'}. Best is trial 3 with value: 0.7921510997345205.\u001b[0m\n",
      "\u001b[32m[I 2023-01-20 19:38:20,884]\u001b[0m Trial 4 finished with value: 0.797672990700691 and parameters: {'n_estimators': 182, 'min_samples_leaf': 6, 'max_depth': 22, 'criterion': 'entropy'}. Best is trial 4 with value: 0.797672990700691.\u001b[0m\n",
      "\u001b[32m[I 2023-01-20 19:38:24,554]\u001b[0m Trial 5 finished with value: 0.7762274480364252 and parameters: {'n_estimators': 87, 'min_samples_leaf': 19, 'max_depth': 20, 'criterion': 'entropy'}. Best is trial 4 with value: 0.797672990700691.\u001b[0m\n",
      "\u001b[32m[I 2023-01-20 19:38:29,363]\u001b[0m Trial 6 finished with value: 0.7985481401783817 and parameters: {'n_estimators': 108, 'min_samples_leaf': 6, 'max_depth': 18, 'criterion': 'gini'}. Best is trial 6 with value: 0.7985481401783817.\u001b[0m\n",
      "\u001b[32m[I 2023-01-20 19:38:36,437]\u001b[0m Trial 7 finished with value: 0.7842616741619594 and parameters: {'n_estimators': 193, 'min_samples_leaf': 17, 'max_depth': 17, 'criterion': 'entropy'}. Best is trial 6 with value: 0.7985481401783817.\u001b[0m\n",
      "\u001b[32m[I 2023-01-20 19:38:41,404]\u001b[0m Trial 8 finished with value: 0.7894168626925838 and parameters: {'n_estimators': 112, 'min_samples_leaf': 12, 'max_depth': 17, 'criterion': 'log_loss'}. Best is trial 6 with value: 0.7985481401783817.\u001b[0m\n",
      "\u001b[32m[I 2023-01-20 19:38:47,473]\u001b[0m Trial 9 finished with value: 0.7857624568778093 and parameters: {'n_estimators': 148, 'min_samples_leaf': 16, 'max_depth': 16, 'criterion': 'log_loss'}. Best is trial 6 with value: 0.7985481401783817.\u001b[0m\n",
      "\u001b[32m[I 2023-01-20 19:38:52,361]\u001b[0m Trial 10 finished with value: 0.8028166022454449 and parameters: {'n_estimators': 95, 'min_samples_leaf': 5, 'max_depth': 24, 'criterion': 'gini'}. Best is trial 10 with value: 0.8028166022454449.\u001b[0m\n",
      "\u001b[32m[I 2023-01-20 19:38:57,534]\u001b[0m Trial 11 finished with value: 0.8025837397632305 and parameters: {'n_estimators': 96, 'min_samples_leaf': 5, 'max_depth': 25, 'criterion': 'gini'}. Best is trial 10 with value: 0.8028166022454449.\u001b[0m\n",
      "\u001b[32m[I 2023-01-20 19:39:01,699]\u001b[0m Trial 12 finished with value: 0.8004706951049687 and parameters: {'n_estimators': 78, 'min_samples_leaf': 5, 'max_depth': 25, 'criterion': 'gini'}. Best is trial 10 with value: 0.8028166022454449.\u001b[0m\n",
      "\u001b[32m[I 2023-01-20 19:39:05,664]\u001b[0m Trial 13 finished with value: 0.7995668773098694 and parameters: {'n_estimators': 77, 'min_samples_leaf': 8, 'max_depth': 25, 'criterion': 'gini'}. Best is trial 10 with value: 0.8028166022454449.\u001b[0m\n",
      "\u001b[32m[I 2023-01-20 19:39:09,256]\u001b[0m Trial 14 finished with value: 0.7830462378327514 and parameters: {'n_estimators': 95, 'min_samples_leaf': 14, 'max_depth': 23, 'criterion': 'gini'}. Best is trial 10 with value: 0.8028166022454449.\u001b[0m\n",
      "\u001b[32m[I 2023-01-20 19:39:12,217]\u001b[0m Trial 15 finished with value: 0.7965409360068859 and parameters: {'n_estimators': 55, 'min_samples_leaf': 7, 'max_depth': 20, 'criterion': 'gini'}. Best is trial 10 with value: 0.8028166022454449.\u001b[0m\n",
      "\u001b[32m[I 2023-01-20 19:39:18,258]\u001b[0m Trial 16 finished with value: 0.8010573674286849 and parameters: {'n_estimators': 121, 'min_samples_leaf': 5, 'max_depth': 24, 'criterion': 'gini'}. Best is trial 10 with value: 0.8028166022454449.\u001b[0m\n",
      "\u001b[32m[I 2023-01-20 19:39:21,278]\u001b[0m Trial 17 finished with value: 0.7870266430761361 and parameters: {'n_estimators': 69, 'min_samples_leaf': 12, 'max_depth': 20, 'criterion': 'gini'}. Best is trial 10 with value: 0.8028166022454449.\u001b[0m\n",
      "\u001b[32m[I 2023-01-20 19:39:27,323]\u001b[0m Trial 18 finished with value: 0.797072674517812 and parameters: {'n_estimators': 133, 'min_samples_leaf': 8, 'max_depth': 22, 'criterion': 'gini'}. Best is trial 10 with value: 0.8028166022454449.\u001b[0m\n",
      "\u001b[32m[I 2023-01-20 19:39:31,039]\u001b[0m Trial 19 finished with value: 0.7847479843339962 and parameters: {'n_estimators': 100, 'min_samples_leaf': 14, 'max_depth': 25, 'criterion': 'gini'}. Best is trial 10 with value: 0.8028166022454449.\u001b[0m\n",
      "\u001b[32m[I 2023-01-20 19:39:36,526]\u001b[0m Trial 20 finished with value: 0.7989314738599883 and parameters: {'n_estimators': 130, 'min_samples_leaf': 7, 'max_depth': 14, 'criterion': 'gini'}. Best is trial 10 with value: 0.8028166022454449.\u001b[0m\n",
      "\u001b[32m[I 2023-01-20 19:39:42,254]\u001b[0m Trial 21 finished with value: 0.7995451994068395 and parameters: {'n_estimators': 118, 'min_samples_leaf': 5, 'max_depth': 23, 'criterion': 'gini'}. Best is trial 10 with value: 0.8028166022454449.\u001b[0m\n",
      "\u001b[32m[I 2023-01-20 19:39:46,970]\u001b[0m Trial 22 finished with value: 0.8028166022454449 and parameters: {'n_estimators': 95, 'min_samples_leaf': 5, 'max_depth': 24, 'criterion': 'gini'}. Best is trial 10 with value: 0.8028166022454449.\u001b[0m\n",
      "\u001b[32m[I 2023-01-20 19:39:51,149]\u001b[0m Trial 23 finished with value: 0.7969551902523255 and parameters: {'n_estimators': 92, 'min_samples_leaf': 7, 'max_depth': 23, 'criterion': 'gini'}. Best is trial 10 with value: 0.8028166022454449.\u001b[0m\n",
      "\u001b[32m[I 2023-01-20 19:39:55,325]\u001b[0m Trial 24 finished with value: 0.7910480633273339 and parameters: {'n_estimators': 102, 'min_samples_leaf': 10, 'max_depth': 21, 'criterion': 'gini'}. Best is trial 10 with value: 0.8028166022454449.\u001b[0m\n",
      "\u001b[32m[I 2023-01-20 19:39:59,173]\u001b[0m Trial 25 finished with value: 0.800468215833009 and parameters: {'n_estimators': 68, 'min_samples_leaf': 5, 'max_depth': 24, 'criterion': 'gini'}. Best is trial 10 with value: 0.8028166022454449.\u001b[0m\n",
      "\u001b[32m[I 2023-01-20 19:40:02,973]\u001b[0m Trial 26 finished with value: 0.7956281572076276 and parameters: {'n_estimators': 82, 'min_samples_leaf': 8, 'max_depth': 19, 'criterion': 'gini'}. Best is trial 10 with value: 0.8028166022454449.\u001b[0m\n",
      "\u001b[32m[I 2023-01-20 19:40:06,821]\u001b[0m Trial 27 finished with value: 0.7950510299707257 and parameters: {'n_estimators': 67, 'min_samples_leaf': 6, 'max_depth': 24, 'criterion': 'entropy'}. Best is trial 10 with value: 0.8028166022454449.\u001b[0m\n",
      "\u001b[32m[I 2023-01-20 19:40:11,438]\u001b[0m Trial 28 finished with value: 0.7917090518688693 and parameters: {'n_estimators': 108, 'min_samples_leaf': 9, 'max_depth': 25, 'criterion': 'gini'}. Best is trial 10 with value: 0.8028166022454449.\u001b[0m\n",
      "\u001b[32m[I 2023-01-20 19:40:17,552]\u001b[0m Trial 29 finished with value: 0.7725288016766972 and parameters: {'n_estimators': 160, 'min_samples_leaf': 20, 'max_depth': 21, 'criterion': 'log_loss'}. Best is trial 10 with value: 0.8028166022454449.\u001b[0m\n",
      "\u001b[32m[I 2023-01-20 19:40:24,441]\u001b[0m Trial 30 finished with value: 0.796535237062775 and parameters: {'n_estimators': 135, 'min_samples_leaf': 6, 'max_depth': 23, 'criterion': 'log_loss'}. Best is trial 10 with value: 0.8028166022454449.\u001b[0m\n",
      "\u001b[32m[I 2023-01-20 19:40:30,602]\u001b[0m Trial 31 finished with value: 0.802883869131171 and parameters: {'n_estimators': 125, 'min_samples_leaf': 5, 'max_depth': 24, 'criterion': 'gini'}. Best is trial 31 with value: 0.802883869131171.\u001b[0m\n",
      "\u001b[32m[I 2023-01-20 19:40:36,059]\u001b[0m Trial 32 finished with value: 0.8010122886410219 and parameters: {'n_estimators': 120, 'min_samples_leaf': 5, 'max_depth': 22, 'criterion': 'gini'}. Best is trial 31 with value: 0.802883869131171.\u001b[0m\n",
      "\u001b[32m[I 2023-01-20 19:40:42,389]\u001b[0m Trial 33 finished with value: 0.7993348040866345 and parameters: {'n_estimators': 142, 'min_samples_leaf': 7, 'max_depth': 24, 'criterion': 'gini'}. Best is trial 31 with value: 0.802883869131171.\u001b[0m\n",
      "\u001b[32m[I 2023-01-20 19:40:48,932]\u001b[0m Trial 34 finished with value: 0.7882475444431932 and parameters: {'n_estimators': 166, 'min_samples_leaf': 9, 'max_depth': 11, 'criterion': 'gini'}. Best is trial 31 with value: 0.802883869131171.\u001b[0m\n"
     ]
    },
    {
     "name": "stderr",
     "output_type": "stream",
     "text": [
      "\u001b[32m[I 2023-01-20 19:40:53,429]\u001b[0m Trial 35 finished with value: 0.7949709794544221 and parameters: {'n_estimators': 94, 'min_samples_leaf': 6, 'max_depth': 21, 'criterion': 'gini'}. Best is trial 31 with value: 0.802883869131171.\u001b[0m\n",
      "\u001b[32m[I 2023-01-20 19:40:57,611]\u001b[0m Trial 36 finished with value: 0.785305288915479 and parameters: {'n_estimators': 87, 'min_samples_leaf': 11, 'max_depth': 22, 'criterion': 'entropy'}. Best is trial 31 with value: 0.802883869131171.\u001b[0m\n",
      "\u001b[32m[I 2023-01-20 19:41:02,103]\u001b[0m Trial 37 finished with value: 0.795489839068489 and parameters: {'n_estimators': 105, 'min_samples_leaf': 8, 'max_depth': 24, 'criterion': 'gini'}. Best is trial 31 with value: 0.802883869131171.\u001b[0m\n",
      "\u001b[32m[I 2023-01-20 19:41:08,103]\u001b[0m Trial 38 finished with value: 0.7978165410713695 and parameters: {'n_estimators': 112, 'min_samples_leaf': 6, 'max_depth': 25, 'criterion': 'log_loss'}. Best is trial 31 with value: 0.802883869131171.\u001b[0m\n",
      "\u001b[32m[I 2023-01-20 19:41:11,280]\u001b[0m Trial 39 finished with value: 0.797711181842063 and parameters: {'n_estimators': 57, 'min_samples_leaf': 5, 'max_depth': 10, 'criterion': 'entropy'}. Best is trial 31 with value: 0.802883869131171.\u001b[0m\n",
      "\u001b[32m[I 2023-01-20 19:41:16,863]\u001b[0m Trial 40 finished with value: 0.7935214329715776 and parameters: {'n_estimators': 127, 'min_samples_leaf': 7, 'max_depth': 13, 'criterion': 'gini'}. Best is trial 31 with value: 0.802883869131171.\u001b[0m\n",
      "\u001b[32m[I 2023-01-20 19:41:22,485]\u001b[0m Trial 41 finished with value: 0.7995335828439492 and parameters: {'n_estimators': 120, 'min_samples_leaf': 5, 'max_depth': 24, 'criterion': 'gini'}. Best is trial 31 with value: 0.802883869131171.\u001b[0m\n",
      "\u001b[32m[I 2023-01-20 19:41:28,233]\u001b[0m Trial 42 finished with value: 0.795600783375195 and parameters: {'n_estimators': 115, 'min_samples_leaf': 6, 'max_depth': 23, 'criterion': 'gini'}. Best is trial 31 with value: 0.802883869131171.\u001b[0m\n",
      "\u001b[32m[I 2023-01-20 19:41:34,287]\u001b[0m Trial 43 finished with value: 0.8044176579696455 and parameters: {'n_estimators': 99, 'min_samples_leaf': 5, 'max_depth': 24, 'criterion': 'gini'}. Best is trial 43 with value: 0.8044176579696455.\u001b[0m\n",
      "\u001b[32m[I 2023-01-20 19:41:38,380]\u001b[0m Trial 44 finished with value: 0.7942298431088702 and parameters: {'n_estimators': 86, 'min_samples_leaf': 6, 'max_depth': 25, 'criterion': 'gini'}. Best is trial 43 with value: 0.8044176579696455.\u001b[0m\n",
      "\u001b[32m[I 2023-01-20 19:41:41,599]\u001b[0m Trial 45 finished with value: 0.780811958772959 and parameters: {'n_estimators': 99, 'min_samples_leaf': 17, 'max_depth': 22, 'criterion': 'gini'}. Best is trial 43 with value: 0.8044176579696455.\u001b[0m\n",
      "\u001b[32m[I 2023-01-20 19:41:45,505]\u001b[0m Trial 46 finished with value: 0.8027100934786414 and parameters: {'n_estimators': 73, 'min_samples_leaf': 5, 'max_depth': 23, 'criterion': 'log_loss'}. Best is trial 43 with value: 0.8044176579696455.\u001b[0m\n",
      "\u001b[32m[I 2023-01-20 19:41:49,004]\u001b[0m Trial 47 finished with value: 0.7911922594965208 and parameters: {'n_estimators': 75, 'min_samples_leaf': 9, 'max_depth': 23, 'criterion': 'log_loss'}. Best is trial 43 with value: 0.8044176579696455.\u001b[0m\n",
      "\u001b[32m[I 2023-01-20 19:41:52,554]\u001b[0m Trial 48 finished with value: 0.7951867511015043 and parameters: {'n_estimators': 73, 'min_samples_leaf': 7, 'max_depth': 19, 'criterion': 'log_loss'}. Best is trial 43 with value: 0.8044176579696455.\u001b[0m\n",
      "\u001b[32m[I 2023-01-20 19:41:56,825]\u001b[0m Trial 49 finished with value: 0.7981518543456504 and parameters: {'n_estimators': 90, 'min_samples_leaf': 6, 'max_depth': 21, 'criterion': 'log_loss'}. Best is trial 43 with value: 0.8044176579696455.\u001b[0m\n"
     ]
    },
    {
     "name": "stdout",
     "output_type": "stream",
     "text": [
      "Наилучшие значения гиперпараметров {'n_estimators': 99, 'min_samples_leaf': 5, 'max_depth': 24, 'criterion': 'gini'}\n"
     ]
    }
   ],
   "source": [
    "def optuna_rf(trial):\n",
    "  # задаем пространства поиска гиперпараметров\n",
    "    n_estimators = trial.suggest_int('n_estimators', 50, 200, 1)\n",
    "    min_samples_leaf = trial.suggest_int('min_samples_leaf', 5, 20, 1)\n",
    "    max_depth = trial.suggest_int('max_depth', 10, 25, 1)\n",
    "    criterion = trial.suggest_categorical('criterion', ['gini', 'entropy', 'log_loss'])\n",
    "    \n",
    "  # создаем модель\n",
    "    model = ensemble.RandomForestClassifier(\n",
    "        n_estimators=n_estimators,\n",
    "        max_depth=max_depth,\n",
    "        min_samples_leaf=min_samples_leaf,\n",
    "        criterion=criterion,\n",
    "        random_state=42\n",
    "    )\n",
    "    \n",
    "    score = cross_val_score(model, X=X_train, y=y_train, cv=5, scoring='f1', n_jobs=-1).mean()\n",
    "    return score\n",
    "\n",
    "%time\n",
    "# cоздаем объект исследования\n",
    "study = optuna.create_study(study_name='RandomForestClassifier', direction='maximize')\n",
    "# ищем лучшую комбинацию гиперпараметров n_trials раз\n",
    "study.optimize(optuna_rf, n_trials=50)\n",
    "\n",
    "print('Наилучшие значения гиперпараметров {}'.format(study.best_params))"
   ]
  },
  {
   "cell_type": "markdown",
   "id": "18f8479c",
   "metadata": {},
   "source": [
    "Наилучшие значения гиперпараметров:**n_estimators=99, min_samples_leaf=5, max_depth=24, criterion=gini*"
   ]
  }
 ],
 "metadata": {
  "kernelspec": {
   "display_name": "Python 3 (ipykernel)",
   "language": "python",
   "name": "python3"
  },
  "language_info": {
   "codemirror_mode": {
    "name": "ipython",
    "version": 3
   },
   "file_extension": ".py",
   "mimetype": "text/x-python",
   "name": "python",
   "nbconvert_exporter": "python",
   "pygments_lexer": "ipython3",
   "version": "3.9.13"
  }
 },
 "nbformat": 4,
 "nbformat_minor": 5
}
